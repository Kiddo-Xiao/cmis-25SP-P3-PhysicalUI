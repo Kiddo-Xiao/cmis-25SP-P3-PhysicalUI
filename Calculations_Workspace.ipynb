{
 "cells": [
  {
   "cell_type": "markdown",
   "metadata": {},
   "source": [
    "# Calculations of Expected Values"
   ]
  },
  {
   "cell_type": "code",
   "execution_count": 1,
   "metadata": {},
   "outputs": [],
   "source": [
    "import Constants as co\n",
    "import math"
   ]
  },
  {
   "cell_type": "markdown",
   "metadata": {},
   "source": [
    "## Utility Functions"
   ]
  },
  {
   "cell_type": "code",
   "execution_count": 4,
   "metadata": {},
   "outputs": [],
   "source": [
    "def estimate_launch_speed(bow_thickness, beam_length, distance_arrow_is_pushed):\n",
    "    \"\"\"Estimate arrow launch speed based on bow parameters.\n",
    "\n",
    "    Parameter units are all in mm.\n",
    "    \n",
    "    Energy is transferred to the arrow in the form of work (force * distance) over a distance of 1 mm. \n",
    "    Then, by the work-energy theorem, the launch speed of the arrow (in m/s) is given by sqrt(v^2 + 2W/M), where:\n",
    "    v: velocity before work is applied (m/s)\n",
    "    W: work (Joules)\n",
    "    M: mass of arrow (kg)\n",
    "\n",
    "    Since the arrow is at rest before work is applied, v = 0 and the equation simplifies to sqrt(2W/M).\n",
    "\n",
    "    Curious to see the resultant estimated distance? See https://www.omnicalculator.com/physics/projectile-motion\n",
    "\n",
    "    Equation source: https://study.com/skill/learn/how-to-use-the-work-energy-theorem-to-calculate-the-final-velocity-of-an-object-explanation.html\n",
    "    \"\"\"\n",
    "    distance_arrow_is_pushed = co.DEFAULT_DISTANCE_ARROW_PUSHED / 1000  # in m\n",
    "    force = estimate_draw_force(bow_thickness, beam_length)  # in N\n",
    "    work = force * distance_arrow_is_pushed  # in J\n",
    "    mass_of_arrow = co.DEFAULT_ARROW_WEIGHT / 1000  # in kg\n",
    "    estimated_speed = math.sqrt(2 * work / mass_of_arrow)  # in m/s\n",
    "\n",
    "    print(\"Estimated speed (m/s): \" + str(estimated_speed))\n",
    "    \n",
    "    return estimated_speed\n",
    "\n",
    "def estimate_draw_force(bow_thickness, beam_length):\n",
    "    \"\"\"Estimate force required to fully draw the bow.\n",
    "    \n",
    "    The force required to deflect a single cantilever beam (in the direction of the force) is given by 3DEI/(L^3), where:\n",
    "    D: deflection/distance moved (mm)\n",
    "    E: Young's modulus (dependent on material properties) (N/mm^2)\n",
    "    I: area moment of inertia, which for a rectangular beam with a cross section of dimensions b * h, is given by b(h^3)/12 (mm^4)\n",
    "    L: length of the beam (mm)\n",
    "\n",
    "    For 2 * 10 = 20 beams, the total force is given by 60DEI/(L^3).\n",
    "    \"\"\"\n",
    "    deflection = co.DEFAULT_DEFLECTION\n",
    "    youngs_modulus = co.DEFAULT_YOUNGS_MODULUS  # E for PLA at infill density of 100% and layer height of 0.20 mm\n",
    "    beam_thickness = co.DEFAULT_BEAM_THICKNESS\n",
    "    moment_of_inertia = bow_thickness * (beam_thickness ** 3) / 12\n",
    "\n",
    "    height_difference_between_beam_ends = co.DEFAULT_HEIGHT_DIFFERENCE_BETWEEN_BEAM_ENDS  # in mm\n",
    "\n",
    "    estimated_force = 60 * deflection * youngs_modulus * moment_of_inertia / (beam_length ** 3)\n",
    "\n",
    "    empirical_corrective_factor = co.DEFAULT_EMPIRICAL_CORRECTIVE_FACTOR  # we are doing more deformation than the original equation expects\n",
    "\n",
    "    estimated_force = estimated_force * empirical_corrective_factor\n",
    "\n",
    "    print(\"Estimated force (N): \" + str(estimated_force))\n",
    "    \n",
    "    return estimated_force"
   ]
  },
  {
   "cell_type": "markdown",
   "metadata": {},
   "source": [
    "## Actual values of parameters, and results of calculations"
   ]
  },
  {
   "cell_type": "code",
   "execution_count": 6,
   "metadata": {},
   "outputs": [
    {
     "name": "stdout",
     "output_type": "stream",
     "text": [
      "Blue\n",
      "Estimated force (N): 17.056032921810697\n",
      "Estimated speed (m/s): 5.840553556266854\n",
      "White\n",
      "Estimated force (N): 11.744519819865658\n",
      "Estimated speed (m/s): 4.846549250727915\n",
      "Orange\n",
      "Estimated force (N): 13.210963499999997\n",
      "Estimated speed (m/s): 5.140226356883517\n"
     ]
    },
    {
     "data": {
      "text/plain": [
       "5.140226356883517"
      ]
     },
     "execution_count": 6,
     "metadata": {},
     "output_type": "execute_result"
    }
   ],
   "source": [
    "# Blue\n",
    "print(\"Blue\")\n",
    "estimate_launch_speed(8, 27, 0.25)\n",
    "\n",
    "# White\n",
    "print(\"White\")\n",
    "estimate_launch_speed(11, 34, 0.5)\n",
    "\n",
    "# Orange\n",
    "print(\"Orange\")\n",
    "estimate_launch_speed(8.5, 30, 0.25)"
   ]
  },
  {
   "cell_type": "markdown",
   "metadata": {},
   "source": [
    "# Use [this calculator](https://www.omnicalculator.com/physics/projectile-motion) to obtain distance.\n",
    "\n",
    "For a = 45 degrees and h = 0.45 meters, estimated distances for blue, white, and orange are 388 cm, 278 cm, and 309 cm, respectively."
   ]
  }
 ],
 "metadata": {
  "kernelspec": {
   "display_name": "cmis-p3-env",
   "language": "python",
   "name": "python3"
  },
  "language_info": {
   "codemirror_mode": {
    "name": "ipython",
    "version": 3
   },
   "file_extension": ".py",
   "mimetype": "text/x-python",
   "name": "python",
   "nbconvert_exporter": "python",
   "pygments_lexer": "ipython3",
   "version": "3.9.21"
  }
 },
 "nbformat": 4,
 "nbformat_minor": 2
}
